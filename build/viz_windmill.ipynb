{
 "cells": [
  {
   "cell_type": "markdown",
   "id": "07ae368a-0ec5-435f-bd67-2b369633340b",
   "metadata": {},
   "source": [
    "# Introduction\n",
    "\n",
    "* Script to plot volume data using mayavi (mlab)\n",
    "* Examples of isosurface and volume rendering is available\n",
    "* Close each mlab window in order for the script to start plotting the next figure"
   ]
  },
  {
   "cell_type": "markdown",
   "id": "4d8d7368-2496-4eaf-9361-fb546fb44228",
   "metadata": {},
   "source": [
    "# Load libraries"
   ]
  },
  {
   "cell_type": "code",
   "execution_count": 1,
   "id": "15d1d001-0f28-4b46-b457-b1bc4f9d4f45",
   "metadata": {},
   "outputs": [],
   "source": [
    "# import libraries\n",
    "import os\n",
    "# for math\n",
    "import numpy as np\n",
    "# for netcdf file\n",
    "# os.system(\"pip install netCDF4\")\n",
    "import netCDF4\n",
    "from netCDF4 import Dataset\n",
    "\n",
    "# plotting\n",
    "from mayavi import mlab\n",
    "from tvtk.util import ctf\n",
    "import matplotlib.pyplot as plt\n",
    "from matplotlib.pyplot import cm\n",
    "from matplotlib.colors import LinearSegmentedColormap"
   ]
  },
  {
   "cell_type": "markdown",
   "id": "12fa479b-38c1-4281-91a8-c3d8423b0a56",
   "metadata": {},
   "source": [
    "# Custom functions"
   ]
  },
  {
   "cell_type": "code",
   "execution_count": 2,
   "id": "cae377f8-f4b2-4569-8905-f43abd55ac75",
   "metadata": {},
   "outputs": [],
   "source": [
    "# to reverse colormap of figure object 'obj'\n",
    "def colormap_reverse(obj):\n",
    "    lut = obj.module_manager.scalar_lut_manager.lut.table.to_array()\n",
    "    ilut = lut[::-1]\n",
    "    # putting LUT back in the surface object\n",
    "    obj.module_manager.scalar_lut_manager.lut.table = ilut\n",
    "    # forcing to update the figure once we have changed the LUT\n",
    "    mlab.draw()"
   ]
  },
  {
   "cell_type": "code",
   "execution_count": 3,
   "id": "6f074182-f9b5-4fd1-855e-543c6bc46c44",
   "metadata": {},
   "outputs": [],
   "source": [
    "def compute_vorticity(u, v, w, dx, dy, dz):\n",
    "    \"\"\"\n",
    "    Compute vorticity in 3D using velocity fields (u, v, w). Assuming uniform grid.\n",
    "\n",
    "    Parameters:\n",
    "        u (ndarray): Velocity component in the x-direction.\n",
    "        v (ndarray): Velocity component in the y-direction.\n",
    "        w (ndarray): Velocity component in the z-direction.\n",
    "        dx (float): Grid spacing in the x-direction.\n",
    "        dy (float): Grid spacing in the y-direction.\n",
    "        dz (float): Grid spacing in the z-direction.\n",
    "\n",
    "    Returns:\n",
    "        vorticity_x (ndarray): Vorticity component in the x-direction.\n",
    "        vorticity_y (ndarray): Vorticity component in the y-direction.\n",
    "        vorticity_z (ndarray): Vorticity component in the z-direction.\n",
    "    \"\"\"\n",
    "    # Calculate derivatives\n",
    "    du_dx, du_dy, du_dz = np.gradient(u, dx, dy, dz)\n",
    "    dv_dx, dv_dy, dv_dz = np.gradient(v, dx, dy, dz)\n",
    "    dw_dx, dw_dy, dw_dz = np.gradient(w, dx, dy, dz)\n",
    "    \n",
    "    # Compute vorticity\n",
    "    vorticity_x = dw_dy - dv_dz\n",
    "    vorticity_y = du_dz - dw_dx\n",
    "    vorticity_z = dv_dx - du_dy\n",
    "    \n",
    "    return vorticity_x, vorticity_y, vorticity_z"
   ]
  },
  {
   "cell_type": "code",
   "execution_count": 4,
   "id": "f64de94a-451c-487b-89db-65b0f5a06b9f",
   "metadata": {},
   "outputs": [],
   "source": [
    "def compute_qcriterion(u, v, w, dx, dy, dz, norm=True):\n",
    "    # Calculate derivatives\n",
    "    du_dx, du_dy, du_dz = np.gradient(u, dx, dy, dz)\n",
    "    dv_dx, dv_dy, dv_dz = np.gradient(v, dx, dy, dz)\n",
    "    dw_dx, dw_dy, dw_dz = np.gradient(w, dx, dy, dz)\n",
    "\n",
    "    # Compute vorticity\n",
    "    vorticity_x = dw_dy - dv_dz\n",
    "    vorticity_y = du_dz - dw_dx\n",
    "    vorticity_z = dv_dx - du_dy\n",
    "    \n",
    "    Omega = 0.5 * (vorticity_z**2 + vorticity_y**2 + vorticity_x**2)\n",
    "    S     = du_dx**2 + dv_dy**2 + dw_dz**2 + (0.5 * ( (dv_dx + du_dy)**2 + (dw_dx + du_dz)**2 + (dv_dz + dw_dy)**2) )\n",
    "    Q = 0.5 * (Omega - S)\n",
    "    \n",
    "    if norm: # min-max norm to [-1,1]\n",
    "        a = -1; b = 1\n",
    "        Q = a + ( (Q - np.min(Q[:]))*(b - a) / (np.max(Q[:]) - np.min(Q[:])) )\n",
    "    return Q"
   ]
  },
  {
   "cell_type": "code",
   "execution_count": 5,
   "id": "0b34d7c3-4811-4a53-bc47-d37195140855",
   "metadata": {},
   "outputs": [
    {
     "name": "stderr",
     "output_type": "stream",
     "text": [
      "/var/folders/30/4m4szwf162x06l9rfddfgp90c0khl7/T/ipykernel_1718/3900880352.py:14: MatplotlibDeprecationWarning: The register_cmap function was deprecated in Matplotlib 3.7 and will be removed two minor releases later. Use ``matplotlib.colormaps.register(name)`` instead.\n",
      "  plt.register_cmap(cmap=bbr)\n"
     ]
    }
   ],
   "source": [
    "# custom blue-black-red continous colormap called `BlueBlackRed`\n",
    "cdict = {'red':   ((0.0, 0.0, 0.0),\n",
    "                   (0.5, 0.0, 0.0),\n",
    "                   (1.0, 1.0, 1.0)),\n",
    "\n",
    "         'green': ((0.0, 0.0, 0.0),\n",
    "                   (1.0, 0.0, 0.0)),\n",
    "\n",
    "         'blue':  ((0.0, 1.0, 1.0),\n",
    "                   (0.5, 0.0, 0.0),\n",
    "                   (1.0, 0.0, 0.0))\n",
    "        }\n",
    "bbr = LinearSegmentedColormap('BlueBlackRed', cdict)\n",
    "plt.register_cmap(cmap=bbr)\n",
    "# cm.unregister_cmap('BlueBlackRed')"
   ]
  },
  {
   "cell_type": "markdown",
   "id": "0f94159c-63e2-413d-9134-42d3cca141a8",
   "metadata": {},
   "source": [
    "# User input"
   ]
  },
  {
   "cell_type": "code",
   "execution_count": 6,
   "id": "2a2058bc-ac94-403d-8cb6-6b9f26ce47a0",
   "metadata": {},
   "outputs": [],
   "source": [
    "# file path\n",
    "# HDdir = '/Users/81a/Desktop/Projects/Climate/miniWeatherML/experiments/supercell_example/jupyternotebooks'\n",
    "# loadpath = f'{HDdir}/supercell_3d_weno9_acoust_acoust_advect_1000x1000x200.nc'\n",
    "HDdir = './Data'\n",
    "t_smpl = 5\n",
    "loadpath = f'{HDdir}/test_{t_smpl:08d}.nc'"
   ]
  },
  {
   "cell_type": "markdown",
   "id": "680b34f2-2b29-4120-96a5-0b2d03e998d0",
   "metadata": {},
   "source": [
    "# Load data"
   ]
  },
  {
   "cell_type": "code",
   "execution_count": 7,
   "id": "5ced430b-0256-41e6-8998-aaa2d9c7e401",
   "metadata": {},
   "outputs": [],
   "source": [
    "# load NETCDF file\n",
    "nc_data = Dataset(loadpath,'r')\n",
    "\n",
    "# position and time vectors\n",
    "x = np.array(nc_data.variables['x'][:])\n",
    "y = np.array(nc_data.variables['y'][:])\n",
    "z = np.array(nc_data.variables['z'][:])\n",
    "\n",
    "# position meshgrid\n",
    "X, Y, Z = np.meshgrid(x, y, z)\n",
    "\n",
    "# read necessary variables\n",
    "TKE = np.array(nc_data.variables['TKE'][:,:,:,0]).T\n",
    "watervap = np.array(nc_data.variables['water_vapor'][:,:,:,0]).T\n",
    "temp = np.array(nc_data.variables['temperature'][:,:,:,0]).T\n",
    "u = np.array(nc_data.variables['uvel'][:,:,:,0]).T\n",
    "v = np.array(nc_data.variables['vvel'][:,:,:,0]).T\n",
    "w = np.array(nc_data.variables['wvel'][:,:,:,0]).T"
   ]
  },
  {
   "cell_type": "code",
   "execution_count": 8,
   "id": "5d52049e-ad7a-4858-ac13-4610fbb5e550",
   "metadata": {},
   "outputs": [],
   "source": [
    "dx = np.diff(x)[0]; dy = np.diff(y)[0]; dz = np.diff(z)[0]\n",
    "Q = compute_qcriterion(u, v, w, dx, dy, dz, norm=True)"
   ]
  },
  {
   "cell_type": "code",
   "execution_count": 9,
   "id": "67e509fc-e691-4fdc-9a6b-f987b95b263e",
   "metadata": {},
   "outputs": [],
   "source": [
    "Umag = u**2 + v**2 + w**2"
   ]
  },
  {
   "cell_type": "markdown",
   "id": "0d5c1d49-55a9-42f7-8191-9cb970f006f8",
   "metadata": {},
   "source": [
    "# Plotting"
   ]
  },
  {
   "cell_type": "markdown",
   "id": "291f41cc-6f58-4f12-9421-e5cf671f0ad5",
   "metadata": {},
   "source": [
    "## Iso-surface plot"
   ]
  },
  {
   "cell_type": "code",
   "execution_count": 10,
   "id": "6fa7ebd6-ea1e-4161-9975-0987dfe41ce3",
   "metadata": {
    "tags": []
   },
   "outputs": [],
   "source": [
    "# vector = watervap\n",
    "# scalar1 = cloud\n",
    "# scalar_th1 = 0.0001\n",
    "# scalar2 = precip\n",
    "# scalar_th2 = 0.007\n",
    "# # 0.0007 for cloud\n",
    "# # 0.007 for precip\n",
    "# bgcolor = (0,0,0)\n",
    "# # deep skyblue(0, 0.7490196078431373, 1.0)\n",
    "# # skyblue (0.5294117647058824, 0.807843137254902, 0.9215686274509803)\n",
    "\n",
    "# fig = mlab.figure(fgcolor=(1, 1, 1), bgcolor=bgcolor, size=(1024, 768))\n",
    "\n",
    "# # plot bottom slice\n",
    "# obj = mlab.volume_slice(vector, plane_orientation='z_axes', line_width=0, slice_index=0, colormap='hot')\n",
    "# lut = obj.module_manager.scalar_lut_manager.lut.table.to_array()\n",
    "# obj.module_manager.scalar_lut_manager.lut.table = lut[0:int(len(lut)/2), :]\n",
    "# mlab.draw()\n",
    "# colormap_reverse(obj)\n",
    "\n",
    "# # plot isosurface inner\n",
    "# obj = mlab.contour3d(scalar2, contours=[scalar_th2], colormap='winter', opacity=1)\n",
    "# # colormap_reverse(obj)\n",
    "\n",
    "\n",
    "# # plot isosurface 2\n",
    "# obj = mlab.contour3d(scalar1, contours=[scalar_th1], colormap='black-white', transparent=True, opacity=0.1)\n",
    "# colormap_reverse(obj)\n",
    "\n",
    "\n",
    "# # adjust camera\n",
    "# mlab.view(azimuth=60, elevation=40, distance=1.8*len(x), focalpoint=[0.5*len(x), 0.6*len(y), 0.5*len(z)], roll=None, reset_roll=True, figure=fig)\n",
    "\n",
    "# # # save fig\n",
    "# # # filename = f'sample_plot_precip_Uvelocity_t{t_smpl}.png'\n",
    "# # filename = f'sample_plot_cloud_Uvelocity_t{t_smpl}_multi-contour.png'\n",
    "# # mlab.savefig(filename, size=(180,180), figure=None, magnification='auto')\n",
    "\n",
    "# mlab.show()"
   ]
  },
  {
   "cell_type": "markdown",
   "id": "bb0e7f9b-50cf-4d67-9481-9a895168ae0d",
   "metadata": {},
   "source": [
    "## Volume rendering"
   ]
  },
  {
   "cell_type": "markdown",
   "id": "18512da6-204a-4c7e-95ca-2b774d0079da",
   "metadata": {},
   "source": [
    "### Sample"
   ]
  },
  {
   "cell_type": "code",
   "execution_count": 11,
   "id": "d371d2ca-b222-4fbd-8179-a75fdcc4dfbb",
   "metadata": {},
   "outputs": [],
   "source": [
    "# bgcolor = (0,0,0) # background color\n",
    "# fig = mlab.figure(fgcolor=(1, 1, 1), bgcolor=bgcolor, size=(3072, 2304))\n",
    "\n",
    "# # plot bottom slice\n",
    "# slc = 50  # slice number of the actual slice to be plotted\n",
    "# # duplicate value of slice to all the other slices\n",
    "# vector = w.copy()\n",
    "# vector[:,:,:] = vector[:,:,slc].reshape( (len(x), len(y), 1) )\n",
    "# # plot slice but the bottom (0th) slice. It'll have the value of slice `slc`\n",
    "# mag = np.abs(vector).max()\n",
    "# obj = mlab.volume_slice(vector, plane_orientation='z_axes', slice_index=0, line_width=0, colormap='bwr', vmin=-mag, vmax=mag)\n",
    "# # matplotlib colormap\n",
    "# values = np.linspace(0., 1., 256)\n",
    "# cmap = cm.get_cmap('BlueBlackRed')(values.copy()) * 255\n",
    "# cmap = cmap.astype('uint8')\n",
    "# obj.module_manager.scalar_lut_manager.lut.table = cmap\n",
    "# mlab.draw()\n",
    "\n",
    "# # # precip\n",
    "# # volume = mlab.pipeline.volume(mlab.pipeline.scalar_field(precip), vmin=0.008, vmax=0.009, color=(0,1,1))\n",
    "\n",
    "# # # cloud\n",
    "# # volume = mlab.pipeline.volume(mlab.pipeline.scalar_field(cloud), vmin=0.00007, vmax=0.002, color=(1,1,1))\n",
    "\n",
    "# # Q-criterion\n",
    "# volume = mlab.pipeline.volume(mlab.pipeline.scalar_field(Q), vmin=-0.21, vmax=-0.2, color=(0,1,1))\n",
    "# # volume.actor.property.scalar_visibility = False  # Disable the scalar visibility for isosurface\n",
    "\n",
    "# # # Define the scalar field for coloring\n",
    "# # Umag = u**2 + v**2 + w**2\n",
    "# # scalar_field = mlab.pipeline.scalar_field(Umag)\n",
    "# # # Create an isosurface and color it by Umag\n",
    "# # isosurface = mlab.pipeline.iso_surface(Q, color=(0,1,1))\n",
    "# # isosurface.actor.mapper.scalar_visibility = False  # Disable the scalar visibility for isosurface\n",
    "# # isosurface.actor.mapper.input_connection = scalar_field.output_port  # Connect Umag as the scalar field for coloring\n",
    "\n",
    "# # adjust camera\n",
    "# mlab.view(azimuth=60, elevation=70, distance=1.2*len(x), focalpoint=[0.5*len(x), 0.6*len(y), 0.5*len(z)], roll=None, reset_roll=True, figure=fig)\n",
    "\n",
    "# # # save figure\n",
    "# # filename = f'sample_volume_cloud_precip_t{t_smpl}.png'\n",
    "# # mlab.savefig(filename, size=(50,50), figure=None, magnification='auto') # change size for adjusting resolution\n",
    "\n",
    "# mlab.show()"
   ]
  },
  {
   "cell_type": "markdown",
   "id": "7fb264b0-21f2-427f-b624-4d6d17936d05",
   "metadata": {},
   "source": [
    "### Single turbine"
   ]
  },
  {
   "cell_type": "code",
   "execution_count": 12,
   "id": "aa984f6a-9a08-4956-badc-8e6173a5d334",
   "metadata": {},
   "outputs": [],
   "source": [
    "# bgcolor = (1,1,1) # background color\n",
    "# fig = mlab.figure(fgcolor=(1, 1, 1), bgcolor=bgcolor, size=(3072, 2304))\n",
    "\n",
    "# # plot bottom slice\n",
    "# slc = 75  # slice number of the actual slice to be plotted\n",
    "# # duplicate value of slice to all the other slices\n",
    "# vector = w.copy()\n",
    "# vector[:,:,:] = vector[:,:,slc].reshape( (len(x), len(y), 1) )\n",
    "# # plot slice but the bottom (0th) slice. It'll have the value of slice `slc`\n",
    "# mag = np.abs(vector).max()\n",
    "# obj = mlab.volume_slice(vector, plane_orientation='z_axes', slice_index=0, line_width=0, colormap='bwr', vmin=-1, vmax=1)\n",
    "# # matplotlib colormap\n",
    "# values = np.linspace(0., 1., 256)\n",
    "# cmap = cm.get_cmap('jet')(values.copy()) * 255\n",
    "# cmap = cmap.astype('uint8')\n",
    "# obj.module_manager.scalar_lut_manager.lut.table = cmap\n",
    "# # mlab.colorbar(object=obj, title=r'$w$', orientation='vertical', nb_labels=3)\n",
    "# mlab.draw()\n",
    "\n",
    "# # =============================\n",
    "\n",
    "# Q_min = -0.11\n",
    "# Q_max = -0.1\n",
    "# # We create a scalar field with Q as the scalar\n",
    "# src = mlab.pipeline.scalar_field(Q)\n",
    "\n",
    "# # Q-criterion\n",
    "# volume = mlab.pipeline.volume(src, vmin=Q_min, vmax=Q_max, color=(0,1,1))\n",
    "\n",
    "# # Retrieve the LUT of the surf object.\n",
    "# lut = volume.module_manager.scalar_lut_manager.lut.table.to_array()\n",
    "\n",
    "# # The lut is a 255x4 array, with the columns representing RGBA\n",
    "# # (red, green, blue, alpha) coded with integers going from 0 to 255.\n",
    "\n",
    "# # We modify the alpha channel to add a transparency gradient\n",
    "# lut[:, -1] = np.linspace(0, 255, 256)\n",
    "# # and finally we put this LUT back in the surface object. We could have\n",
    "# # added any 255*4 array rather than modifying an existing LUT.\n",
    "# volume.module_manager.scalar_lut_manager.lut.table = lut\n",
    "\n",
    "# # adjust camera\n",
    "# mlab.view(azimuth=240, elevation=70, distance=0.9*len(x), focalpoint=[0.5*len(x), 0.5*len(y), 0.2*len(z)], roll=None, reset_roll=True, figure=fig)\n",
    "\n",
    "# # # save figure\n",
    "# # filename = f'windmill_slice-w_volume-Q_t{t_smpl:08d}.png'\n",
    "# # mlab.savefig(filename, size=(50,50)) #, figure=None)#, magnification='auto') # change size for adjusting resolution\n",
    "\n",
    "# mlab.show()"
   ]
  },
  {
   "cell_type": "markdown",
   "id": "254e75ba-b57f-4b28-99c9-33fc2217d4be",
   "metadata": {},
   "source": [
    "### 3x3 turbine"
   ]
  },
  {
   "cell_type": "code",
   "execution_count": 13,
   "id": "7db982f5-d05b-453b-a0cc-9169a382ec6a",
   "metadata": {},
   "outputs": [
    {
     "name": "stderr",
     "output_type": "stream",
     "text": [
      "/var/folders/30/4m4szwf162x06l9rfddfgp90c0khl7/T/ipykernel_1718/37388441.py:14: MatplotlibDeprecationWarning: The get_cmap function was deprecated in Matplotlib 3.7 and will be removed two minor releases later. Use ``matplotlib.colormaps[name]`` or ``matplotlib.colormaps.get_cmap(obj)`` instead.\n",
      "  cmap = cm.get_cmap('Greys_r')(values.copy()) * 255\n"
     ]
    }
   ],
   "source": [
    "bgcolor = (1,1,1) # background color\n",
    "fig = mlab.figure(fgcolor=(1, 1, 1), bgcolor=bgcolor, size=(3072, 2304))\n",
    "\n",
    "# plot bottom slice\n",
    "slc = 30  # slice number of the actual slice to be plotted\n",
    "# duplicate value of slice to all the other slices\n",
    "vector = u.copy()\n",
    "vector[:,:,:] = vector[:,:,slc].reshape( (len(x), len(y), 1) )\n",
    "# plot slice but the bottom (0th) slice. It'll have the value of slice `slc`\n",
    "mag = np.abs(vector).max()\n",
    "obj = mlab.volume_slice(vector, plane_orientation='z_axes', slice_index=0, line_width=0, colormap='bwr', vmin=-5, vmax=15)\n",
    "# matplotlib colormap\n",
    "values = np.linspace(0., 1., 256)\n",
    "cmap = cm.get_cmap('Greys_r')(values.copy()) * 255\n",
    "cmap = cmap.astype('uint8')\n",
    "obj.module_manager.scalar_lut_manager.lut.table = cmap\n",
    "# mlab.colorbar(object=obj, title=r'$w$', orientation='vertical', nb_labels=3)\n",
    "mlab.draw()\n",
    "\n",
    "# =============================\n",
    "\n",
    "# Q_min = -0.11\n",
    "# Q_max = -0.1\n",
    "Q_min = -0.441 # 0.47 0.45\n",
    "Q_max = -0.44\n",
    "# We create a scalar field with Q as the scalar\n",
    "src = mlab.pipeline.scalar_field(Q)\n",
    "\n",
    "# Q-criterion\n",
    "volume = mlab.pipeline.volume(src, vmin=Q_min, vmax=Q_max, color=(1,0,0))\n",
    "\n",
    "# Retrieve the LUT of the surf object.\n",
    "lut = volume.module_manager.scalar_lut_manager.lut.table.to_array()\n",
    "\n",
    "# The lut is a 255x4 array, with the columns representing RGBA\n",
    "# (red, green, blue, alpha) coded with integers going from 0 to 255.\n",
    "\n",
    "# We modify the alpha channel to add a transparency gradient\n",
    "lut[:, -1] = np.linspace(0, 255, 256)\n",
    "# and finally we put this LUT back in the surface object. We could have\n",
    "# added any 255*4 array rather than modifying an existing LUT.\n",
    "volume.module_manager.scalar_lut_manager.lut.table = lut\n",
    "\n",
    "# adjust camera\n",
    "# Inset - close\n",
    "# mlab.view(azimuth=270, elevation=10, distance=0.5*len(x), focalpoint=[0.5*len(x), 0.5*len(y), 0.2*len(z)], roll=None, reset_roll=True, figure=fig)\n",
    "# Inset - away\n",
    "# mlab.view(azimuth=270, elevation=70, distance=0.3*len(x), focalpoint=[0.55*len(x), 0.2*len(y), 0.2*len(z)], roll=None, reset_roll=True, figure=fig)\n",
    "# Full image\n",
    "mlab.view(azimuth=270, elevation=70, distance=1.2*len(x), focalpoint=[0.5*len(x), 0.4*len(y), 0.2*len(z)], roll=None, reset_roll=True, figure=fig)\n",
    "\n",
    "# # save figure\n",
    "# filename = f'windmill_slice-u_volume-Q_t{t_smpl:08d}_inset3.png'\n",
    "# mlab.savefig(filename, size=(50,50)) #, figure=None)#, magnification='auto') # change size for adjusting resolution\n",
    "\n",
    "mlab.show()"
   ]
  },
  {
   "cell_type": "markdown",
   "id": "29180859-19c8-41db-b79b-35dfb12bd7fa",
   "metadata": {},
   "source": [
    "### Isosurface colored with another scalar (not volume rendering; low quality isosurfaces)"
   ]
  },
  {
   "cell_type": "code",
   "execution_count": 14,
   "id": "bdfaf600-3376-4d66-b3db-17260d502920",
   "metadata": {},
   "outputs": [],
   "source": [
    "# bgcolor = (0,0,0) # background color\n",
    "# fig = mlab.figure(fgcolor=(1, 1, 1), bgcolor=bgcolor, size=(3072, 2304))\n",
    "\n",
    "# # plot bottom slice\n",
    "# slc = 50  # slice number of the actual slice to be plotted\n",
    "# # duplicate value of slice to all the other slices\n",
    "# vector = w.copy()\n",
    "# vector[:,:,:] = vector[:,:,slc].reshape( (len(x), len(y), 1) )\n",
    "# # plot slice but the bottom (0th) slice. It'll have the value of slice `slc`\n",
    "# mag = np.abs(vector).max()\n",
    "# obj = mlab.volume_slice(vector, plane_orientation='z_axes', slice_index=0, line_width=0, colormap='bwr', vmin=-mag, vmax=mag)\n",
    "# # matplotlib colormap\n",
    "# values = np.linspace(0., 1., 256)\n",
    "# cmap = cm.get_cmap('BlueBlackRed')(values.copy()) * 255\n",
    "# cmap = cmap.astype('uint8')\n",
    "# obj.module_manager.scalar_lut_manager.lut.table = cmap\n",
    "# # mlab.colorbar(object=obj, title=r'$w$', orientation='vertical', nb_labels=3)\n",
    "# mlab.draw()\n",
    "\n",
    "# # =============================\n",
    "\n",
    "# Q_min = -0.34\n",
    "# Q_max = -0.33\n",
    "# # We create a scalar field with Q as the scalar\n",
    "# src = mlab.pipeline.scalar_field(Q)\n",
    "\n",
    "# # And we add the TKE as an additional array\n",
    "# # This is a tricky part: the layout of the new array needs to be the same\n",
    "# # as the existing dataset, and no checks are performed. The shape needs\n",
    "# # to be the same, and so should the data. Failure to do so can result in\n",
    "# # segfaults.\n",
    "# src.image_data.point_data.add_array(Umag.ravel())\n",
    "# # We need to give a name to our new dataset.\n",
    "# src.image_data.point_data.get_array(1).name = 'TKE'\n",
    "# # Make sure that the dataset is up to date with the different arrays:\n",
    "# src.update()\n",
    "\n",
    "# # We select the 'scalar' attribute, ie Q\n",
    "# src2 = mlab.pipeline.set_active_attribute(src,\n",
    "#                                     point_scalars='scalar')\n",
    "\n",
    "# # # Cut isosurfaces of Q\n",
    "# # contour = mlab.pipeline.contour(src2)\n",
    "# # Cut isosurfaces of the norm\n",
    "# contour = mlab.pipeline.contour(src2)\n",
    "# min_c = Q_min #min(contour.filter._data_min * 1.05,contour.filter._data_max)\n",
    "# max_c = Q_max #max(contour.filter._data_max * 0.95,contour.filter._data_min)\n",
    "# # plotIsoSurfaceContours = [ max(min(max_c,x),min_c) for x in plotIsoSurfaceContours ]\n",
    "# # contour.filter.contours = plotIsoSurfaceContours\n",
    "# contour.filter.contours = np.linspace(Q_min, Q_max, 10).tolist()\n",
    "\n",
    "# # Now we select the 'TKE' attribute, ie the TKE\n",
    "# contour2 = mlab.pipeline.set_active_attribute(contour,\n",
    "#                                     point_scalars='TKE')\n",
    "\n",
    "# # And we display the surface. The colormap is the current attribute: TKE.\n",
    "# iso = mlab.pipeline.surface(contour2, colormap='jet')\n",
    "# # mlab.colorbar(object=iso, title=r'TKE', orientation='vertical', nb_labels=3)\n",
    "\n",
    "# # adjust camera\n",
    "# mlab.view(azimuth=-120, elevation=70, distance=1.2*len(x), focalpoint=[0.5*len(x), 0.6*len(y), 0.5*len(z)], roll=None, reset_roll=True, figure=fig)\n",
    "\n",
    "# mlab.show()"
   ]
  },
  {
   "cell_type": "code",
   "execution_count": null,
   "id": "78a4dd68-77ec-415b-a333-e483a6f19c02",
   "metadata": {},
   "outputs": [],
   "source": []
  }
 ],
 "metadata": {
  "kernelspec": {
   "display_name": "viz",
   "language": "python",
   "name": "viz"
  },
  "language_info": {
   "codemirror_mode": {
    "name": "ipython",
    "version": 3
   },
   "file_extension": ".py",
   "mimetype": "text/x-python",
   "name": "python",
   "nbconvert_exporter": "python",
   "pygments_lexer": "ipython3",
   "version": "3.11.7"
  }
 },
 "nbformat": 4,
 "nbformat_minor": 5
}
